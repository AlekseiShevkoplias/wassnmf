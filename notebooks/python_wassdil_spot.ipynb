{
 "cells": [
  {
   "cell_type": "code",
   "execution_count": null,
   "metadata": {},
   "outputs": [],
   "source": [
    "from wassnmf.validation import *\n",
    "from wassnmf.wassdil import *\n",
    "import torch"
   ]
  },
  {
   "cell_type": "code",
   "execution_count": null,
   "metadata": {},
   "outputs": [],
   "source": [
    "%load_ext autoreload\n",
    "%autoreload 2"
   ]
  },
  {
   "cell_type": "code",
   "execution_count": null,
   "metadata": {},
   "outputs": [],
   "source": [
    "import pandas as pd \n",
    "spot_data = pd.read_csv(\"../data/DLBCL_spotdata.csv\", index_col=0)\n",
    "X = spot_data.values\n",
    "coord = np.linspace(-12, 12, X.shape[0])"
   ]
  },
  {
   "cell_type": "code",
   "execution_count": null,
   "metadata": {},
   "outputs": [],
   "source": [
    "from scipy.spatial.distance import pdist, squareform\n",
    "\n",
    "# Compute pairwise Euclidean distances between rows\n",
    "D = pdist(spot_data.values, metric='euclidean')  # or 'cosine', 'correlation', etc.\n",
    "D_square = squareform(D)  # Convert to square matrix\n",
    "\n",
    "# Wrap in a DataFrame for labels\n",
    "D_df = pd.DataFrame(D_square, index=spot_data.index, columns=spot_data.index)\n"
   ]
  },
  {
   "cell_type": "code",
   "execution_count": null,
   "metadata": {},
   "outputs": [],
   "source": [
    "# imports \n",
    "import seaborn as sns\n",
    "import matplotlib.pyplot as plt\n",
    "# Plot heatmap\n",
    "plt.figure(figsize=(8, 8))\n",
    "sns.heatmap(D_df, annot=True, fmt=\".2f\", cmap=\"coolwarm\", square=True, cbar_kws={\"shrink\": 0.8})\n",
    "plt.title(\"Euclidian Distance Between Spots\")\n",
    "plt.tight_layout()\n",
    "plt.show()"
   ]
  },
  {
   "cell_type": "code",
   "execution_count": null,
   "metadata": {},
   "outputs": [],
   "source": [
    "\n",
    "# D_square is your pairwise distance matrix (squareform(pdist(...)))\n",
    "# Set your epsilon (kernel width) — try median or mean of distances as a start\n",
    "eps = np.median(D_square)**2  # or manually: eps = 1.0\n",
    "\n",
    "K = np.exp(-D_square**2 / eps)\n",
    "\n"
   ]
  },
  {
   "cell_type": "code",
   "execution_count": null,
   "metadata": {},
   "outputs": [],
   "source": [
    "sns.heatmap(K, cmap=\"viridis\", square=True, cbar_kws={\"shrink\": 0.8},\n",
    "            xticklabels=spot_data.index, yticklabels=spot_data.index)\n",
    "plt.title('Kernel matrix for the WNMF');"
   ]
  },
  {
   "cell_type": "code",
   "execution_count": null,
   "metadata": {},
   "outputs": [],
   "source": [
    "model = WassersteinDiL(dtype=torch.float32)"
   ]
  },
  {
   "cell_type": "code",
   "execution_count": null,
   "metadata": {},
   "outputs": [],
   "source": [
    "device = \"cuda\" if torch.cuda.is_available() else \"cpu\""
   ]
  },
  {
   "cell_type": "code",
   "execution_count": null,
   "metadata": {},
   "outputs": [],
   "source": [
    "# x and k to torch\n",
    "x = torch.tensor(X, dtype=torch.float32, device=device)\n",
    "k = torch.tensor(K, dtype=torch.float32, device=device)"
   ]
  },
  {
   "cell_type": "code",
   "execution_count": null,
   "metadata": {},
   "outputs": [],
   "source": [
    "x.shape"
   ]
  },
  {
   "cell_type": "code",
   "execution_count": null,
   "metadata": {},
   "outputs": [],
   "source": [
    "D, Lambda = model.fit(x.T, k, 3, verbose=True, device=device)"
   ]
  },
  {
   "cell_type": "code",
   "execution_count": null,
   "metadata": {},
   "outputs": [],
   "source": [
    "from wassnmf.functional import *"
   ]
  },
  {
   "cell_type": "code",
   "execution_count": null,
   "metadata": {},
   "outputs": [],
   "source": [
    "nmf_model = WassersteinNMF(n_components=3, device='cuda', verbose=True,\n",
    "                           n_iter=10)\n"
   ]
  },
  {
   "cell_type": "code",
   "execution_count": null,
   "metadata": {},
   "outputs": [],
   "source": [
    "X, K, coord, cost_matrix = generate_data(scenario)"
   ]
  },
  {
   "cell_type": "code",
   "execution_count": null,
   "metadata": {},
   "outputs": [],
   "source": [
    "X = X / X.sum()\n",
    "coords = torch.randn(20, 2)  # Example: 2D coordinates for each row of X\n",
    "K = torch.cdist(coords, coords) ** 2\n",
    "K = torch.exp(-K / 0.1) # Gibbs Kernel\n"
   ]
  },
  {
   "cell_type": "code",
   "execution_count": null,
   "metadata": {},
   "outputs": [],
   "source": [
    "X_cuda = torch.tensor(X, device=device, dtype=torch.float32)#.cuda()\n",
    "K_cuda = torch.tensor(K, device=device, dtype=torch.float32)#.cuda()"
   ]
  },
  {
   "cell_type": "code",
   "execution_count": null,
   "metadata": {},
   "outputs": [],
   "source": [
    "X_cuda"
   ]
  },
  {
   "cell_type": "code",
   "execution_count": null,
   "metadata": {},
   "outputs": [],
   "source": [
    "x.shape"
   ]
  },
  {
   "cell_type": "code",
   "execution_count": null,
   "metadata": {},
   "outputs": [],
   "source": [
    "D_torch, Lambda_torch = wasserstein_nmf(x, k, 3, n_iter=1)"
   ]
  },
  {
   "cell_type": "code",
   "execution_count": null,
   "metadata": {},
   "outputs": [],
   "source": [
    "D_torch"
   ]
  },
  {
   "cell_type": "code",
   "execution_count": null,
   "metadata": {},
   "outputs": [],
   "source": [
    "Lambda_torch"
   ]
  },
  {
   "cell_type": "code",
   "execution_count": null,
   "metadata": {},
   "outputs": [],
   "source": [
    "# Example data\n",
    "m = 20  # Number of rows in X\n",
    "n = 20 # Number of columns in X\n",
    "k = 3   # Number of components\n",
    "X, K, _, _ = generate_data(scenario)\n",
    "X = torch.tensor(X, dtype=torch.float32)"
   ]
  },
  {
   "cell_type": "code",
   "execution_count": null,
   "metadata": {},
   "outputs": [],
   "source": [
    "K"
   ]
  },
  {
   "cell_type": "code",
   "execution_count": null,
   "metadata": {},
   "outputs": [],
   "source": [
    "\n",
    "# X = torch.rand(m, n)\n",
    "# X = X / X.sum(dim=0, keepdim=True) # ensure columns of X sum to 1\n",
    "\n",
    "# Create a cost matrix (example: squared Euclidean distance)\n",
    "# coords = torch.randn(m, 2)  # Example: 2D coordinates for each row of X\n",
    "# K = torch.cdist(coords, coords) ** 2\n",
    "# K = torch.exp(-K / 0.1) # Gibbs Kernel\n",
    "K = torch.tensor(K, dtype=torch.float32)\n",
    " \n",
    "# Move data to GPU\n",
    "X_cuda = X.cuda()\n",
    "K_cuda = K.cuda()\n",
    "\n",
    "# Run GPU version\n",
    "D_torch, Lambda_torch = wasserstein_nmf_gpu(X_cuda, K_cuda, k, n_iter=10)\n",
    "\n",
    "# Verify reconstruction (should be close to the original X)\n",
    "X_reconstructed = torch.matmul(D_torch, Lambda_torch)\n",
    "print(\"\\nReconstruction Error (GPU):\", torch.norm(X.cpu() - X_reconstructed)) #compare with X on the CPU"
   ]
  },
  {
   "cell_type": "code",
   "execution_count": null,
   "metadata": {},
   "outputs": [],
   "source": [
    "import seaborn as sns"
   ]
  },
  {
   "cell_type": "code",
   "execution_count": null,
   "metadata": {},
   "outputs": [],
   "source": [
    "X_rec = D_torch @ Lambda_torch"
   ]
  },
  {
   "cell_type": "code",
   "execution_count": null,
   "metadata": {},
   "outputs": [],
   "source": [
    "import matplotlib.pyplot as plt\n",
    "\n",
    "sns.heatmap(X_rec.detach().numpy())\n",
    "\n",
    "plt.show()\n",
    "\n",
    "sns.heatmap(D_torch.detach().numpy())\n",
    "plt.show()\n",
    "\n",
    "sns.heatmap(Lambda_torch.detach().numpy())\n",
    "plt.show() "
   ]
  },
  {
   "cell_type": "code",
   "execution_count": null,
   "metadata": {},
   "outputs": [],
   "source": [
    "sns.heatmap(X)"
   ]
  },
  {
   "cell_type": "code",
   "execution_count": null,
   "metadata": {},
   "outputs": [],
   "source": [
    "\n",
    "\n",
    "\n",
    "sns.heatmap(K.detach().numpy(), cmap='viridis')\n"
   ]
  },
  {
   "cell_type": "code",
   "execution_count": null,
   "metadata": {},
   "outputs": [],
   "source": [
    "from sklearn.decomposition import NMF"
   ]
  },
  {
   "cell_type": "code",
   "execution_count": null,
   "metadata": {},
   "outputs": [],
   "source": [
    "model = NMF(n_components=3, init='random', random_state=0)"
   ]
  },
  {
   "cell_type": "code",
   "execution_count": null,
   "metadata": {},
   "outputs": [],
   "source": [
    "W = model.fit_transform(X)\n",
    "H = model.components_"
   ]
  },
  {
   "cell_type": "code",
   "execution_count": null,
   "metadata": {},
   "outputs": [],
   "source": [
    "X_nmf = np.dot(W, H)"
   ]
  },
  {
   "cell_type": "code",
   "execution_count": null,
   "metadata": {},
   "outputs": [],
   "source": [
    "sns.heatmap(X_nmf)\n",
    "plt.show()\n",
    "\n",
    "sns.heatmap(W)\n",
    "plt.show()  \n",
    "\n",
    "sns.heatmap(H)\n",
    "plt.show()  "
   ]
  },
  {
   "cell_type": "code",
   "execution_count": null,
   "metadata": {},
   "outputs": [],
   "source": [
    "import wsingular"
   ]
  },
  {
   "cell_type": "code",
   "execution_count": null,
   "metadata": {},
   "outputs": [],
   "source": [
    "# Example data\n",
    "m = 20  # Number of rows in X\n",
    "n = 20 # Number of columns in X\n",
    "k = 3   # Number of components\n",
    "X, K, _, _ = generate_data(scenario)\n",
    "X = torch.tensor(X, dtype=torch.float32)"
   ]
  },
  {
   "cell_type": "code",
   "execution_count": null,
   "metadata": {},
   "outputs": [],
   "source": [
    "C, D = wsingular.sinkhorn_singular_vectors(\n",
    "    X,\n",
    "    eps=5e-2,\n",
    "    dtype=X.dtype,\n",
    "    device=device,\n",
    "    n_iter=100,\n",
    "    progress_bar=True,\n",
    ")"
   ]
  },
  {
   "cell_type": "code",
   "execution_count": null,
   "metadata": {},
   "outputs": [],
   "source": [
    "C, D = C.cpu(), D.cpu()"
   ]
  },
  {
   "cell_type": "code",
   "execution_count": null,
   "metadata": {},
   "outputs": [],
   "source": [
    "C"
   ]
  },
  {
   "cell_type": "code",
   "execution_count": null,
   "metadata": {},
   "outputs": [],
   "source": [
    "# Display the SSV.\n",
    "fig, axes = plt.subplots(1, 3, figsize=(10, 5))\n",
    "fig.suptitle('Sinkhorn Singular Vectors')\n",
    "\n",
    "axes[0].set_title('The data.')\n",
    "axes[0].imshow(X)\n",
    "axes[0].set_xticks(range(0, m, 5))\n",
    "axes[0].set_yticks(range(0, m, 5))\n",
    "\n",
    "axes[1].set_title('Distance between samples.')\n",
    "axes[1].imshow(D)\n",
    "axes[1].set_xticks(range(0, m, 5))\n",
    "axes[1].set_yticks(range(0, m, 5))\n",
    "\n",
    "axes[2].set_title('Distance between features.')\n",
    "axes[2].imshow(C)\n",
    "axes[2].set_xticks(range(0, n, 5))\n",
    "axes[2].set_yticks(range(0, n, 5))\n",
    "\n",
    "plt.show()"
   ]
  },
  {
   "cell_type": "code",
   "execution_count": null,
   "metadata": {},
   "outputs": [],
   "source": [
    "C.sum()"
   ]
  },
  {
   "cell_type": "code",
   "execution_count": null,
   "metadata": {},
   "outputs": [],
   "source": [
    "\n",
    "K = torch.exp(-D / 0.01)  # Gibbs Kernel, eps\n",
    "# K = D\n",
    " \n",
    "# Move data to GPU\n",
    "X_cuda = X.cuda()\n",
    "K_cuda = K.cuda()\n",
    "\n",
    "# Run GPU version\n",
    "D_torch, Lambda_torch = wasserstein_nmf_gpu(X_cuda, K_cuda, k, n_iter=10)\n",
    "\n",
    "# Verify reconstruction (should be close to the original X)\n",
    "X_reconstructed_C = torch.matmul(D_torch, Lambda_torch)\n",
    "print(\"\\nReconstruction Error (GPU):\", torch.norm(X.cpu() - X_reconstructed_C)) #compare with X on the CPU"
   ]
  },
  {
   "cell_type": "code",
   "execution_count": null,
   "metadata": {},
   "outputs": [],
   "source": [
    "import matplotlib.pyplot as plt\n",
    "\n",
    "sns.heatmap(X_reconstructed_C.detach().numpy())\n",
    "\n",
    "plt.show()\n",
    "\n",
    "sns.heatmap(D_torch.detach().numpy())\n",
    "plt.show()\n",
    "\n",
    "sns.heatmap(Lambda_torch.detach().numpy())\n",
    "plt.show() \n",
    "\n",
    "sns.heatmap(X.detach().numpy())\n",
    "plt.show() "
   ]
  },
  {
   "cell_type": "code",
   "execution_count": null,
   "metadata": {},
   "outputs": [],
   "source": [
    "D_np =  D_torch.detach().numpy()\n",
    "dominant_component = np.argmax(np.var(D_np, axis=0))"
   ]
  },
  {
   "cell_type": "code",
   "execution_count": null,
   "metadata": {},
   "outputs": [],
   "source": [
    "pseudotime = D_np[:, dominant_component]"
   ]
  },
  {
   "cell_type": "code",
   "execution_count": null,
   "metadata": {},
   "outputs": [],
   "source": [
    "sample_order"
   ]
  },
  {
   "cell_type": "code",
   "execution_count": null,
   "metadata": {},
   "outputs": [],
   "source": [
    "pseudotime"
   ]
  },
  {
   "cell_type": "code",
   "execution_count": null,
   "metadata": {},
   "outputs": [],
   "source": [
    "sample_order = np.argsort(pseudotime)\n",
    "sorted_pseudotime = np.sort(pseudotime)"
   ]
  },
  {
   "cell_type": "code",
   "execution_count": null,
   "metadata": {},
   "outputs": [],
   "source": [
    "plt.figure(figsize=(10, 5))\n",
    "plt.plot(range(len(sorted_pseudotime)), sorted_pseudotime, marker=\"o\", linestyle=\"-\")\n",
    "plt.xlabel(\"Sample Rank\")\n",
    "plt.ylabel(\"Pseudotime Value\")\n",
    "plt.title(\"Pseudotime Estimation\")\n",
    "plt.grid()\n",
    "plt.show()\n"
   ]
  },
  {
   "cell_type": "code",
   "execution_count": null,
   "metadata": {},
   "outputs": [],
   "source": [
    "sns.heatmap(X.T[np.argsort(pca_pt.T)[0]])\n",
    "plt.show() "
   ]
  },
  {
   "cell_type": "code",
   "execution_count": null,
   "metadata": {},
   "outputs": [],
   "source": [
    "from sklearn.decomposition import PCA"
   ]
  },
  {
   "cell_type": "code",
   "execution_count": null,
   "metadata": {},
   "outputs": [],
   "source": [
    "# Apply PCA to reduce dimensionality to 2D\n",
    "pca = PCA(n_components=2)\n",
    "projected_data = pca.fit_transform(D_np[sample_order])\n",
    "\n",
    "# Get feature (column) loadings as arrows\n",
    "feature_arrows = pca.components_.T  # Each feature contributes to the 2D space\n",
    "\n",
    "# Plot data points\n",
    "# plt.figure(figsize=(8, 6))\n",
    "plt.scatter(projected_data[:, 0], projected_data[:, 1], alpha=0.6, label=\"Data Points\",\n",
    "            # cmap='vlag', \n",
    "            c=sample_order)\n",
    "\n",
    "# Plot feature arrows\n",
    "origin = np.zeros((2, 3))  # Origin for arrows\n",
    "plt.quiver(\n",
    "    origin[0], origin[1], feature_arrows[:, 0], feature_arrows[:, 1], \n",
    "    angles='xy', scale_units='xy', scale=1, color='r', width=0.005, label=\"Feature Directions\"\n",
    ")\n",
    "\n",
    "# Labels and styling\n",
    "plt.xlabel(\"PC1\")\n",
    "plt.ylabel(\"PC2\")\n",
    "plt.title(\"Sparse Multidimensional Data in 2D with Feature Arrows\")\n",
    "plt.legend()\n",
    "plt.grid(True)\n",
    "plt.show()"
   ]
  },
  {
   "cell_type": "code",
   "execution_count": null,
   "metadata": {},
   "outputs": [],
   "source": [
    "pca = PCA(n_components=1)\n",
    "pca_pt = pca.fit_transform(X.T)"
   ]
  },
  {
   "cell_type": "code",
   "execution_count": null,
   "metadata": {},
   "outputs": [],
   "source": [
    "plt.plot(pca_pt)"
   ]
  },
  {
   "cell_type": "code",
   "execution_count": null,
   "metadata": {},
   "outputs": [],
   "source": [
    "from mpl_toolkits import mplot3d"
   ]
  },
  {
   "cell_type": "code",
   "execution_count": null,
   "metadata": {},
   "outputs": [],
   "source": [
    "fig = plt.figure(figsize = (10, 7))\n",
    "ax = plt.axes(projection =\"3d\")\n",
    "\n",
    "# 3d scatter plot\n",
    "ax.scatter3D(D_np[:, 0], D_np[:, 1], D_np[:, 2], \n",
    "             c=pca_pt, cmap='Blues')\n"
   ]
  },
  {
   "cell_type": "code",
   "execution_count": null,
   "metadata": {},
   "outputs": [],
   "source": [
    "X = X_cuda.cpu().numpy()"
   ]
  },
  {
   "cell_type": "code",
   "execution_count": null,
   "metadata": {},
   "outputs": [],
   "source": [
    "X"
   ]
  },
  {
   "cell_type": "code",
   "execution_count": null,
   "metadata": {},
   "outputs": [],
   "source": [
    "np.argsort(pca_pt.T)[0]\n"
   ]
  },
  {
   "cell_type": "code",
   "execution_count": null,
   "metadata": {},
   "outputs": [],
   "source": [
    "\n",
    "# Every sample as a 2d image\n",
    "fig, axes = plt.subplots(4, 5, figsize=(10, 10))\n",
    "for i in range(20):\n",
    "    axes[i // 5, i % 5].imshow(X[np.argsort(pca_pt.T)[0]][\n",
    "        i].reshape(4, 5))\n",
    "    axes[i // 5, i % 5].axis('off')\n",
    "    axes[i // 5, i % 5].set_title(f\"Sample {i}\")\n",
    "plt.show()\n",
    "\n",
    "# save as a gif\n",
    "import imageio\n",
    "\n",
    "images = []\n",
    "for i in range(20):\n",
    "    plt.imshow(X[i].reshape(4, 5))\n",
    "    plt.axis('off')\n",
    "    plt.title(f\"Sample {i}\")\n",
    "    plt.savefig(f\"sample_{i}.png\")\n",
    "    images.append(imageio.imread(f\"sample_{i}.png\"))\n",
    "    plt.close()\n",
    "\n",
    "imageio.mimsave('samples.gif', images)\n",
    "\n"
   ]
  },
  {
   "cell_type": "code",
   "execution_count": null,
   "metadata": {},
   "outputs": [],
   "source": []
  }
 ],
 "metadata": {
  "kernelspec": {
   "display_name": ".venv",
   "language": "python",
   "name": "python3"
  },
  "language_info": {
   "codemirror_mode": {
    "name": "ipython",
    "version": 3
   },
   "file_extension": ".py",
   "mimetype": "text/x-python",
   "name": "python",
   "nbconvert_exporter": "python",
   "pygments_lexer": "ipython3",
   "version": "3.10.12"
  }
 },
 "nbformat": 4,
 "nbformat_minor": 2
}
