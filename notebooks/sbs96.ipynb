{
 "cells": [
  {
   "cell_type": "code",
   "execution_count": null,
   "metadata": {},
   "outputs": [],
   "source": [
    "import numpy as np\n",
    "from sklearn.metrics import pairwise_distances\n",
    "import sys\n",
    "from pathlib import Path\n",
    "\n",
    "# Insert \"src\" into sys.path so we can import the local wassnmf package\n",
    "sys.path.insert(0, \"../src\")\n",
    "from wassnmf.wassnmf import WassersteinNMF"
   ]
  },
  {
   "cell_type": "code",
   "execution_count": null,
   "metadata": {},
   "outputs": [],
   "source": [
    "import pandas as pd \n",
    "mut_data = pd.read_csv(\"/home/user920/Documents/SilkNest/pyandju/wassnmf/data/Supplementary_data_Islam_et_al_2022/PCAWG_Reanalysis_Simplified/WGS_PCAWG_ALL-Tissues_SBS96_Samples.txt\",\n",
    "                        sep='\\t', index_col=0)\n"
   ]
  },
  {
   "cell_type": "code",
   "execution_count": null,
   "metadata": {},
   "outputs": [],
   "source": [
    "mut_data.values"
   ]
  },
  {
   "cell_type": "code",
   "execution_count": null,
   "metadata": {},
   "outputs": [],
   "source": [
    "X = mut_data.values\n",
    "coord = np.linspace(-96, 96, X.shape[0])"
   ]
  },
  {
   "cell_type": "code",
   "execution_count": null,
   "metadata": {},
   "outputs": [],
   "source": [
    "X = X[:, :100]"
   ]
  },
  {
   "cell_type": "code",
   "execution_count": null,
   "metadata": {},
   "outputs": [],
   "source": [
    "from sklearn.metrics import pairwise_distances\n",
    "\n",
    "C = pairwise_distances(coord.reshape(-1, 1), metric=\"sqeuclidean\")\n",
    "C = C / C.mean()  # same normalization as the notebook\n",
    "\n",
    "eps = 0.025\n",
    "K = np.exp(-C / eps)"
   ]
  },
  {
   "cell_type": "code",
   "execution_count": null,
   "metadata": {},
   "outputs": [],
   "source": []
  },
  {
   "cell_type": "code",
   "execution_count": null,
   "metadata": {},
   "outputs": [],
   "source": [
    "# Instantiate and run WassersteinNMF with the same parameters as the Julia notebook\n",
    "wnmf = WassersteinNMF(\n",
    "    n_components=10,\n",
    "    epsilon=eps,\n",
    "    rho1=0.05,\n",
    "    rho2=0.05,\n",
    "    n_iter=10,\n",
    "    verbose=True\n",
    ")\n",
    "\n",
    "D, Lambda = wnmf.fit_transform(X, K)\n",
    "print(\"D shape:\", D.shape)\n",
    "print(\"Lambda shape:\", Lambda.shape)\n"
   ]
  },
  {
   "cell_type": "code",
   "execution_count": null,
   "metadata": {},
   "outputs": [],
   "source": [
    "import torch\n",
    "import seaborn as sns\n",
    "\n",
    "sns.heatmap(torch.mm(D, Lambda))\n"
   ]
  },
  {
   "cell_type": "code",
   "execution_count": null,
   "metadata": {},
   "outputs": [],
   "source": [
    "sns.heatmap(D)\n"
   ]
  },
  {
   "cell_type": "code",
   "execution_count": null,
   "metadata": {},
   "outputs": [],
   "source": [
    "sns.heatmap(Lambda)"
   ]
  },
  {
   "cell_type": "code",
   "execution_count": null,
   "metadata": {},
   "outputs": [],
   "source": [
    "sns.heatmap(X)\n"
   ]
  },
  {
   "cell_type": "code",
   "execution_count": null,
   "metadata": {},
   "outputs": [],
   "source": [
    "# Instantiate and run WassersteinNMF with the same parameters as the Julia notebook\n",
    "wnmf = WassersteinNMF(\n",
    "    n_components=10,\n",
    "    epsilon=eps,\n",
    "    rho1=0.05,\n",
    "    rho2=0.05,\n",
    "    n_iter=10,\n",
    "    verbose=True\n",
    ")\n",
    "\n",
    "D, Lambda = wnmf.fit_transform(X, K)\n",
    "print(\"D shape:\", D.shape)\n",
    "print(\"Lambda shape:\", Lambda.shape)\n"
   ]
  },
  {
   "cell_type": "code",
   "execution_count": null,
   "metadata": {},
   "outputs": [],
   "source": [
    "import torch\n",
    "import seaborn as sns\n",
    "\n",
    "sns.heatmap(torch.mm(D, Lambda))\n"
   ]
  },
  {
   "cell_type": "code",
   "execution_count": null,
   "metadata": {},
   "outputs": [],
   "source": [
    "sns.heatmap(D)"
   ]
  },
  {
   "cell_type": "code",
   "execution_count": null,
   "metadata": {},
   "outputs": [],
   "source": [
    "sns.heatmap(Lambda)"
   ]
  },
  {
   "cell_type": "code",
   "execution_count": null,
   "metadata": {},
   "outputs": [],
   "source": [
    "sns.heatmap(X/X.sum(axis=0, keepdims=True))\n"
   ]
  }
 ],
 "metadata": {
  "kernelspec": {
   "display_name": ".venv",
   "language": "python",
   "name": "python3"
  },
  "language_info": {
   "codemirror_mode": {
    "name": "ipython",
    "version": 3
   },
   "file_extension": ".py",
   "mimetype": "text/x-python",
   "name": "python",
   "nbconvert_exporter": "python",
   "pygments_lexer": "ipython3",
   "version": "3.10.12"
  }
 },
 "nbformat": 4,
 "nbformat_minor": 2
}
