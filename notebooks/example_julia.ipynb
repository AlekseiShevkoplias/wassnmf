{
 "cells": [
  {
   "cell_type": "code",
   "execution_count": null,
   "metadata": {},
   "outputs": [],
   "source": [
    "using OptimalTransport\n",
    "import OptimalTransport.Dual: Dual\n",
    "# using MLDatasets: MLDatasets\n",
    "using StatsBase\n",
    "using Plots;\n",
    "default(; palette=:Set1_3)\n",
    "using LogExpFunctions\n",
    "using NNlib: NNlib\n",
    "using LinearAlgebra\n",
    "using Distances\n",
    "using Base.Iterators\n",
    "using NMF\n",
    "using Optim"
   ]
  },
  {
   "cell_type": "code",
   "execution_count": null,
   "metadata": {},
   "outputs": [],
   "source": [
    "\n",
    "function simplex_norm!(x; dims=1)\n",
    "    return x .= x ./ sum(x; dims=dims)\n",
    "end"
   ]
  },
  {
   "cell_type": "code",
   "execution_count": null,
   "metadata": {},
   "outputs": [],
   "source": [
    "\n",
    "function E_star(x; dims=1)\n",
    "    return logsumexp(x; dims=dims)\n",
    "end;"
   ]
  },
  {
   "cell_type": "code",
   "execution_count": null,
   "metadata": {},
   "outputs": [],
   "source": [
    "function E_star_grad(x; dims=1)\n",
    "    return NNlib.softmax(x; dims=1)\n",
    "end;\n",
    "     "
   ]
  },
  {
   "cell_type": "code",
   "execution_count": null,
   "metadata": {},
   "outputs": [],
   "source": [
    "\n",
    "function dual_obj_weights(X, K, ε, D, G, ρ1)\n",
    "    return sum(Dual.ot_entropic_semidual(X, G, ε, K)) + ρ1 * sum(E_star(-D' * G / ρ1))\n",
    "end\n",
    "function dual_obj_weights_grad!(∇, X, K, ε, D, G, ρ1)\n",
    "    return ∇ .= Dual.ot_entropic_semidual_grad(X, G, ε, K) - D * E_star_grad(-D' * G / ρ1)\n",
    "end\n",
    "function dual_obj_dict(X, K, ε, Λ, G, ρ2)\n",
    "    return sum(Dual.ot_entropic_semidual(X, G, ε, K)) + ρ2 * sum(E_star(-G * Λ' / ρ2))\n",
    "end\n",
    "function dual_obj_dict_grad!(∇, X, K, ε, Λ, G, ρ2)\n",
    "    return ∇ .= Dual.ot_entropic_semidual_grad(X, G, ε, K) - E_star_grad(-G * Λ' / ρ2) * Λ\n",
    "end;"
   ]
  },
  {
   "cell_type": "code",
   "execution_count": null,
   "metadata": {},
   "outputs": [],
   "source": [
    "\n",
    "function getprimal_weights(D, G, ρ1)\n",
    "    return NNlib.softmax(-D' * G / ρ1; dims=1)\n",
    "end\n",
    "function getprimal_dict(Λ, G, ρ2)\n",
    "    return NNlib.softmax(-G * Λ' / ρ2; dims=1)\n",
    "end;"
   ]
  },
  {
   "cell_type": "code",
   "execution_count": null,
   "metadata": {},
   "outputs": [],
   "source": [
    "function solve_weights(X, K, ε, D, ρ1; alg, options)\n",
    "    opt = optimize(\n",
    "        g -> dual_obj_weights(X, K, ε, D, g, ρ1),\n",
    "        (∇, g) -> dual_obj_weights_grad!(∇, X, K, ε, D, g, ρ1),\n",
    "        zero.(X),\n",
    "        alg,\n",
    "        options,\n",
    "    )\n",
    "    return getprimal_weights(D, Optim.minimizer(opt), ρ1)\n",
    "end\n",
    "function solve_dict(X, K, ε, Λ, ρ2; alg, options)\n",
    "    opt = optimize(\n",
    "        g -> dual_obj_dict(X, K, ε, Λ, g, ρ2),\n",
    "        (∇, g) -> dual_obj_dict_grad!(∇, X, K, ε, Λ, g, ρ2),\n",
    "        zero.(X),\n",
    "        alg,\n",
    "        options,\n",
    "    )\n",
    "    return getprimal_dict(Λ, Optim.minimizer(opt), ρ2)\n",
    "end;"
   ]
  },
  {
   "cell_type": "code",
   "execution_count": null,
   "metadata": {},
   "outputs": [],
   "source": [
    "\n",
    "f(x, μ, σ) = exp.(-(x .- μ) .^ 2)\n",
    "coord = range(-12, 12; length=100)\n",
    "N = 100\n",
    "σ = 1\n",
    "X = hcat(\n",
    "    [\n",
    "        rand() * f(coord, σ * randn() + 6, 1) +\n",
    "        rand() * f(coord, σ * randn(), 1) +\n",
    "        rand() * f(coord, σ * randn() - 6, 1) for _ in 1:N\n",
    "    ]...,\n",
    ")\n",
    "X = simplex_norm!(X);"
   ]
  },
  {
   "cell_type": "code",
   "execution_count": null,
   "metadata": {},
   "outputs": [],
   "source": [
    "plot(coord, X; alpha=0.1, color=:blue, title=\"Input data\", legend=nothing)"
   ]
  },
  {
   "cell_type": "code",
   "execution_count": null,
   "metadata": {},
   "outputs": [],
   "source": [
    "k = 3\n",
    "result = nnmf(X, k; alg=:multmse)\n",
    "plot(coord, result.W; title=\"NMF with Frobenius loss\", palette=:Set1_3)"
   ]
  },
  {
   "cell_type": "code",
   "execution_count": null,
   "metadata": {},
   "outputs": [],
   "source": [
    "C = pairwise(SqEuclidean(), coord)\n",
    "C = C / mean(C);"
   ]
  },
  {
   "cell_type": "code",
   "execution_count": null,
   "metadata": {},
   "outputs": [],
   "source": [
    "\n",
    "ε = 0.025\n",
    "ρ1, ρ2 = (5e-2, 5e-2);"
   ]
  },
  {
   "cell_type": "code",
   "execution_count": null,
   "metadata": {},
   "outputs": [],
   "source": [
    "\n",
    "K = exp.(-C / ε);"
   ]
  },
  {
   "cell_type": "code",
   "execution_count": null,
   "metadata": {},
   "outputs": [],
   "source": [
    "\n",
    "D = rand(size(X, 1), k) # dictionary\n",
    "simplex_norm!(D; dims=1) # norm columnwise\n",
    "Λ = rand(k, size(X, 2)) # weights\n",
    "simplex_norm!(Λ; dims=1); # norm rowwise"
   ]
  },
  {
   "cell_type": "code",
   "execution_count": null,
   "metadata": {},
   "outputs": [],
   "source": [
    "\n",
    "n_iter = 10\n",
    "for iter in 1:n_iter\n",
    "    @info \"Wasserstein-NMF: iteration $iter\"\n",
    "    D .= solve_dict(\n",
    "        X,\n",
    "        K,\n",
    "        ε,\n",
    "        Λ,\n",
    "        ρ2;\n",
    "        alg=LBFGS(),\n",
    "        options=Optim.Options(;\n",
    "            iterations=250, g_tol=1e-4, show_trace=false, show_every=10\n",
    "        ),\n",
    "    )\n",
    "    Λ .= solve_weights(\n",
    "        X,\n",
    "        K,\n",
    "        ε,\n",
    "        D,\n",
    "        ρ1;\n",
    "        alg=LBFGS(),\n",
    "        options=Optim.Options(;\n",
    "            iterations=250, g_tol=1e-4, show_trace=false, show_every=10\n",
    "        ),\n",
    "    )\n",
    "end"
   ]
  },
  {
   "cell_type": "code",
   "execution_count": null,
   "metadata": {},
   "outputs": [],
   "source": [
    "plot(coord, D; title=\"NMF with Wasserstein loss\", palette=:Set1_3)"
   ]
  },
  {
   "cell_type": "code",
   "execution_count": null,
   "metadata": {},
   "outputs": [],
   "source": [
    "using DelimitedFiles\n",
    "\n",
    "# Suppose your final matrix is named X\n",
    "# Save it as a CSV\n",
    "writedlm(\"data/X_data.csv\", X, ',')\n"
   ]
  },
  {
   "cell_type": "code",
   "execution_count": null,
   "metadata": {},
   "outputs": [],
   "source": [
    "writedlm(\"../data/coord_data.csv\", coord, ',')\n"
   ]
  },
  {
   "cell_type": "code",
   "execution_count": null,
   "metadata": {},
   "outputs": [],
   "source": [
    "using JuWassNMF"
   ]
  },
  {
   "cell_type": "code",
   "execution_count": null,
   "metadata": {},
   "outputs": [],
   "source": [
    "wasserstein_nmf"
   ]
  }
 ],
 "metadata": {
  "kernelspec": {
   "display_name": "Julia 1.11.2",
   "language": "julia",
   "name": "julia-1.11"
  },
  "language_info": {
   "file_extension": ".jl",
   "mimetype": "application/julia",
   "name": "julia",
   "version": "1.11.2"
  }
 },
 "nbformat": 4,
 "nbformat_minor": 2
}
