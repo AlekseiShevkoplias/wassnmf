{
 "cells": [
  {
   "cell_type": "code",
   "execution_count": 15,
   "metadata": {},
   "outputs": [
    {
     "name": "stdout",
     "output_type": "stream",
     "text": [
      "Loaded X shape: (100, 100)\n"
     ]
    }
   ],
   "source": [
    "import numpy as np\n",
    "\n",
    "# Load the exact Julia-saved X\n",
    "X = np.loadtxt(\"../data/X_data.csv\", delimiter=\",\")\n",
    "print(\"Loaded X shape:\", X.shape)\n",
    "\n",
    "coord = np.loadtxt(\"../data/coord_data.csv\", delimiter=\",\")\n"
   ]
  },
  {
   "cell_type": "code",
   "execution_count": 6,
   "metadata": {},
   "outputs": [],
   "source": [
    "from sklearn.metrics import pairwise_distances\n",
    "\n",
    "C = pairwise_distances(coord.reshape(-1, 1), metric=\"sqeuclidean\")\n",
    "C = C / C.mean()  # same normalization as the notebook\n",
    "\n",
    "eps = 0.025\n",
    "K = np.exp(-C / eps)"
   ]
  },
  {
   "cell_type": "code",
   "execution_count": 9,
   "metadata": {},
   "outputs": [
    {
     "name": "stdout",
     "output_type": "stream",
     "text": [
      "Detected IPython. Loading juliacall extension. See https://juliapy.github.io/PythonCall.jl/stable/compat/#IPython\n"
     ]
    }
   ],
   "source": [
    "import numpy as np\n",
    "import pytest\n",
    "from sklearn.metrics import pairwise_distances\n",
    "\n",
    "import sys\n",
    "from pathlib import Path\n",
    "\n",
    "# Insert \"src\" into sys.path so we can import the local wassnmf package\n",
    "sys.path.insert(0, \"../src\")\n",
    "from wassnmf.wassnmf import WassersteinNMF"
   ]
  },
  {
   "cell_type": "code",
   "execution_count": 10,
   "metadata": {},
   "outputs": [],
   "source": [
    "def f(x, mu, sigma=1.0):\n",
    "    \"\"\"Mimic the Julia f(coord, μ, σ): exp.(-(x .- μ).^2).\"\"\"\n",
    "    return np.exp(-(x - mu)**2 / (2 * sigma**2))  # Gaussian bump"
   ]
  },
  {
   "cell_type": "code",
   "execution_count": 11,
   "metadata": {},
   "outputs": [
    {
     "name": "stdout",
     "output_type": "stream",
     "text": [
      "X shape: (100, 100)\n"
     ]
    }
   ],
   "source": [
    "np.random.seed(42)\n",
    "n_features = 100\n",
    "n_samples = 100\n",
    "coord = np.linspace(-12, 12, n_features)\n",
    "X = np.zeros((n_features, n_samples), dtype=np.float64)\n",
    "\n",
    "# Generate data as sums of 3 random Gaussian bumps per column\n",
    "sigma = 1.0\n",
    "for j in range(n_samples):\n",
    "    bump1 = np.random.rand() * f(coord, sigma * np.random.randn() + 6, sigma=1.0)\n",
    "    bump2 = np.random.rand() * f(coord, sigma * np.random.randn(), sigma=1.0)\n",
    "    bump3 = np.random.rand() * f(coord, sigma * np.random.randn() - 6, sigma=1.0)\n",
    "    X[:, j] = bump1 + bump2 + bump3\n",
    "\n",
    "# Normalize columns to sum to 1 (probability simplex)\n",
    "X /= X.sum(axis=0, keepdims=True)\n",
    "\n",
    "print(\"X shape:\", X.shape)\n"
   ]
  },
  {
   "cell_type": "code",
   "execution_count": 16,
   "metadata": {},
   "outputs": [
    {
     "name": "stdout",
     "output_type": "stream",
     "text": [
      "C shape: (100, 100)   K shape: (100, 100)\n"
     ]
    }
   ],
   "source": [
    "# Build cost matrix C from the same coordinate range [-12, 12]\n",
    "C = pairwise_distances(coord.reshape(-1, 1), metric='sqeuclidean')\n",
    "C /= C.mean()\n",
    "\n",
    "# Convert cost matrix to kernel\n",
    "eps = 0.025\n",
    "K = np.exp(-C / eps)\n",
    "\n",
    "print(\"C shape:\", C.shape, \"  K shape:\", K.shape)\n"
   ]
  },
  {
   "cell_type": "code",
   "execution_count": 18,
   "metadata": {},
   "outputs": [
    {
     "name": "stdout",
     "output_type": "stream",
     "text": [
      "Initializing WassersteinNMF...\n",
      "Initializing Julia project...\n"
     ]
    },
    {
     "name": "stderr",
     "output_type": "stream",
     "text": [
      "  Activating project at `~/Documents/SilkNest/pyandju/wassnmf/JuWassNMF`\n",
      "[ Info: Wasserstein-NMF: iteration 1\n",
      "[ Info: Wasserstein-NMF: iteration 2\n"
     ]
    },
    {
     "ename": "RuntimeError",
     "evalue": "Julia computation failed. Make sure JuWassNMF.jl is properly installed and all dependencies are available. Error: AssertionError: isfinite(phi_c) && isfinite(dphi_c)\nStacktrace:\n  [1] secant2!(ϕdϕ::LineSearches.var\"#ϕdϕ#6\"{Optim.ManifoldObjective{NLSolversBase.OnceDifferentiable{Float64, Matrix{Float64}, Matrix{Float64}}}, Matrix{Float64}, Matrix{Float64}, Matrix{Float64}}, alphas::Vector{Float64}, values::Vector{Float64}, slopes::Vector{Float64}, ia::Int64, ib::Int64, phi_lim::Float64, delta::Float64, sigma::Float64, display::Int64)\n    @ LineSearches ~/.julia/packages/LineSearches/jgnxK/src/hagerzhang.jl:376\n  [2] (::LineSearches.HagerZhang{Float64, Base.RefValue{Bool}})(ϕ::Function, ϕdϕ::LineSearches.var\"#ϕdϕ#6\"{Optim.ManifoldObjective{NLSolversBase.OnceDifferentiable{Float64, Matrix{Float64}, Matrix{Float64}}}, Matrix{Float64}, Matrix{Float64}, Matrix{Float64}}, c::Float64, phi_0::Float64, dphi_0::Float64)\n    @ LineSearches ~/.julia/packages/LineSearches/jgnxK/src/hagerzhang.jl:276\n  [3] HagerZhang\n    @ ~/.julia/packages/LineSearches/jgnxK/src/hagerzhang.jl:102 [inlined]\n  [4] perform_linesearch!(state::Optim.LBFGSState{Matrix{Float64}, Vector{Matrix{Float64}}, Vector{Matrix{Float64}}, Float64, Matrix{Float64}}, method::Optim.LBFGS{Nothing, LineSearches.InitialStatic{Float64}, LineSearches.HagerZhang{Float64, Base.RefValue{Bool}}, Optim.var\"#19#21\"}, d::Optim.ManifoldObjective{NLSolversBase.OnceDifferentiable{Float64, Matrix{Float64}, Matrix{Float64}}})\n    @ Optim ~/.julia/packages/Optim/fBdaz/src/utilities/perform_linesearch.jl:58\n  [5] update_state!(d::NLSolversBase.OnceDifferentiable{Float64, Matrix{Float64}, Matrix{Float64}}, state::Optim.LBFGSState{Matrix{Float64}, Vector{Matrix{Float64}}, Vector{Matrix{Float64}}, Float64, Matrix{Float64}}, method::Optim.LBFGS{Nothing, LineSearches.InitialStatic{Float64}, LineSearches.HagerZhang{Float64, Base.RefValue{Bool}}, Optim.var\"#19#21\"})\n    @ Optim ~/.julia/packages/Optim/fBdaz/src/multivariate/solvers/first_order/l_bfgs.jl:204\n  [6] optimize(d::NLSolversBase.OnceDifferentiable{Float64, Matrix{Float64}, Matrix{Float64}}, initial_x::Matrix{Float64}, method::Optim.LBFGS{Nothing, LineSearches.InitialStatic{Float64}, LineSearches.HagerZhang{Float64, Base.RefValue{Bool}}, Optim.var\"#19#21\"}, options::Optim.Options{Float64, Nothing}, state::Optim.LBFGSState{Matrix{Float64}, Vector{Matrix{Float64}}, Vector{Matrix{Float64}}, Float64, Matrix{Float64}})\n    @ Optim ~/.julia/packages/Optim/fBdaz/src/multivariate/optimize/optimize.jl:54\n  [7] optimize\n    @ ~/.julia/packages/Optim/fBdaz/src/multivariate/optimize/optimize.jl:36 [inlined]\n  [8] #optimize#93\n    @ ~/.julia/packages/Optim/fBdaz/src/multivariate/optimize/interface.jl:156 [inlined]\n  [9] optimize\n    @ ~/.julia/packages/Optim/fBdaz/src/multivariate/optimize/interface.jl:151 [inlined]\n [10] solve_dict(X::Matrix{Float64}, K::Matrix{Float64}, ε::Float64, Λ::Matrix{Float64}, ρ2::Float64; alg::Optim.LBFGS{Nothing, LineSearches.InitialStatic{Float64}, LineSearches.HagerZhang{Float64, Base.RefValue{Bool}}, Optim.var\"#19#21\"}, options::Optim.Options{Float64, Nothing})\n    @ JuWassNMF ~/Documents/SilkNest/pyandju/wassnmf/JuWassNMF/src/JuWassNMF.jl:67\n [11] solve_dict\n    @ ~/Documents/SilkNest/pyandju/wassnmf/JuWassNMF/src/JuWassNMF.jl:66 [inlined]\n [12] wasserstein_nmf(X::Matrix{Float64}, K::Matrix{Float64}, k::Int64; eps::Float64, rho1::Float64, rho2::Float64, n_iter::Int64, verbose::Bool)\n    @ JuWassNMF ~/Documents/SilkNest/pyandju/wassnmf/JuWassNMF/src/JuWassNMF.jl:100\n [13] top-level scope\n    @ none:1\n [14] eval\n    @ ./boot.jl:430 [inlined]\n [15] eval\n    @ ./Base.jl:130 [inlined]\n [16] pyjlmodule_seval(self::Module, expr::Py)\n    @ PythonCall.JlWrap ~/.julia/packages/PythonCall/Nr75f/src/JlWrap/module.jl:13\n [17] _pyjl_callmethod(f::Any, self_::Ptr{PythonCall.C.PyObject}, args_::Ptr{PythonCall.C.PyObject}, nargs::Int64)\n    @ PythonCall.JlWrap ~/.julia/packages/PythonCall/Nr75f/src/JlWrap/base.jl:67\n [18] _pyjl_callmethod(o::Ptr{PythonCall.C.PyObject}, args::Ptr{PythonCall.C.PyObject})\n    @ PythonCall.JlWrap.Cjl ~/.julia/packages/PythonCall/Nr75f/src/JlWrap/C.jl:63",
     "output_type": "error",
     "traceback": [
      "\u001b[0;31m---------------------------------------------------------------------------\u001b[0m",
      "\u001b[0;31mJuliaError\u001b[0m                                Traceback (most recent call last)",
      "File \u001b[0;32m~/Documents/SilkNest/pyandju/wassnmf/notebooks/../src/wassnmf/wassnmf.py:128\u001b[0m, in \u001b[0;36mWassersteinNMF.fit_transform\u001b[0;34m(self, X, K)\u001b[0m\n\u001b[1;32m    125\u001b[0m \u001b[38;5;66;03m# Julia call to the function that expects (X, K, k)\u001b[39;00m\n\u001b[1;32m    126\u001b[0m \u001b[38;5;66;03m# Make sure your JuWassNMF module has a function signature like:\u001b[39;00m\n\u001b[1;32m    127\u001b[0m \u001b[38;5;66;03m#  wasserstein_nmf(X, K, k; eps=..., rho1=..., rho2=..., n_iter=..., verbose=...)\u001b[39;00m\n\u001b[0;32m--> 128\u001b[0m \u001b[43mjl\u001b[49m\u001b[38;5;241;43m.\u001b[39;49m\u001b[43mseval\u001b[49m\u001b[43m(\u001b[49m\n\u001b[1;32m    129\u001b[0m \u001b[43m    \u001b[49m\u001b[38;5;124;43mf\u001b[39;49m\u001b[38;5;124;43m\"\"\"\u001b[39;49m\n\u001b[1;32m    130\u001b[0m \u001b[38;5;124;43m    global D, Λ = wasserstein_nmf(\u001b[39;49m\n\u001b[1;32m    131\u001b[0m \u001b[38;5;124;43m        X,\u001b[39;49m\n\u001b[1;32m    132\u001b[0m \u001b[38;5;124;43m        K,\u001b[39;49m\n\u001b[1;32m    133\u001b[0m \u001b[38;5;124;43m        \u001b[39;49m\u001b[38;5;132;43;01m{\u001b[39;49;00m\u001b[38;5;28;43mself\u001b[39;49m\u001b[38;5;241;43m.\u001b[39;49m\u001b[43mn_components\u001b[49m\u001b[38;5;132;43;01m}\u001b[39;49;00m\u001b[38;5;124;43m;\u001b[39;49m\n\u001b[1;32m    134\u001b[0m \u001b[38;5;124;43m        eps=\u001b[39;49m\u001b[38;5;132;43;01m{\u001b[39;49;00m\u001b[38;5;28;43mself\u001b[39;49m\u001b[38;5;241;43m.\u001b[39;49m\u001b[43mepsilon\u001b[49m\u001b[38;5;132;43;01m}\u001b[39;49;00m\u001b[38;5;124;43m,\u001b[39;49m\n\u001b[1;32m    135\u001b[0m \u001b[38;5;124;43m        rho1=\u001b[39;49m\u001b[38;5;132;43;01m{\u001b[39;49;00m\u001b[38;5;28;43mself\u001b[39;49m\u001b[38;5;241;43m.\u001b[39;49m\u001b[43mrho1\u001b[49m\u001b[38;5;132;43;01m}\u001b[39;49;00m\u001b[38;5;124;43m,\u001b[39;49m\n\u001b[1;32m    136\u001b[0m \u001b[38;5;124;43m        rho2=\u001b[39;49m\u001b[38;5;132;43;01m{\u001b[39;49;00m\u001b[38;5;28;43mself\u001b[39;49m\u001b[38;5;241;43m.\u001b[39;49m\u001b[43mrho2\u001b[49m\u001b[38;5;132;43;01m}\u001b[39;49;00m\u001b[38;5;124;43m,\u001b[39;49m\n\u001b[1;32m    137\u001b[0m \u001b[38;5;124;43m        n_iter=\u001b[39;49m\u001b[38;5;132;43;01m{\u001b[39;49;00m\u001b[38;5;28;43mself\u001b[39;49m\u001b[38;5;241;43m.\u001b[39;49m\u001b[43mn_iter\u001b[49m\u001b[38;5;132;43;01m}\u001b[39;49;00m\u001b[38;5;124;43m,\u001b[39;49m\n\u001b[1;32m    138\u001b[0m \u001b[38;5;124;43m        verbose=\u001b[39;49m\u001b[38;5;132;43;01m{\u001b[39;49;00m\u001b[38;5;28;43mstr\u001b[39;49m\u001b[43m(\u001b[49m\u001b[38;5;28;43mself\u001b[39;49m\u001b[38;5;241;43m.\u001b[39;49m\u001b[43mverbose\u001b[49m\u001b[43m)\u001b[49m\u001b[38;5;241;43m.\u001b[39;49m\u001b[43mlower\u001b[49m\u001b[43m(\u001b[49m\u001b[43m)\u001b[49m\u001b[38;5;132;43;01m}\u001b[39;49;00m\n\u001b[1;32m    139\u001b[0m \u001b[38;5;124;43m    )\u001b[39;49m\n\u001b[1;32m    140\u001b[0m \u001b[38;5;124;43m    \u001b[39;49m\u001b[38;5;124;43m\"\"\"\u001b[39;49m\n\u001b[1;32m    141\u001b[0m \u001b[43m\u001b[49m\u001b[43m)\u001b[49m\n\u001b[1;32m    143\u001b[0m \u001b[38;5;66;03m# Retrieve the results\u001b[39;00m\n",
      "File \u001b[0;32m~/.julia/packages/PythonCall/Nr75f/src/JlWrap/module.jl:27\u001b[0m, in \u001b[0;36mseval\u001b[0;34m(self, expr)\u001b[0m\n\u001b[1;32m     26\u001b[0m     def seval(self, expr):\n\u001b[0;32m---> 27\u001b[0m         return self._jl_callmethod($(pyjl_methodnum(pyjlmodule_seval)), expr)\n\u001b[1;32m     28\u001b[0m \"\"\",\n",
      "\u001b[0;31mJuliaError\u001b[0m: AssertionError: isfinite(phi_c) && isfinite(dphi_c)\nStacktrace:\n  [1] secant2!(ϕdϕ::LineSearches.var\"#ϕdϕ#6\"{Optim.ManifoldObjective{NLSolversBase.OnceDifferentiable{Float64, Matrix{Float64}, Matrix{Float64}}}, Matrix{Float64}, Matrix{Float64}, Matrix{Float64}}, alphas::Vector{Float64}, values::Vector{Float64}, slopes::Vector{Float64}, ia::Int64, ib::Int64, phi_lim::Float64, delta::Float64, sigma::Float64, display::Int64)\n    @ LineSearches ~/.julia/packages/LineSearches/jgnxK/src/hagerzhang.jl:376\n  [2] (::LineSearches.HagerZhang{Float64, Base.RefValue{Bool}})(ϕ::Function, ϕdϕ::LineSearches.var\"#ϕdϕ#6\"{Optim.ManifoldObjective{NLSolversBase.OnceDifferentiable{Float64, Matrix{Float64}, Matrix{Float64}}}, Matrix{Float64}, Matrix{Float64}, Matrix{Float64}}, c::Float64, phi_0::Float64, dphi_0::Float64)\n    @ LineSearches ~/.julia/packages/LineSearches/jgnxK/src/hagerzhang.jl:276\n  [3] HagerZhang\n    @ ~/.julia/packages/LineSearches/jgnxK/src/hagerzhang.jl:102 [inlined]\n  [4] perform_linesearch!(state::Optim.LBFGSState{Matrix{Float64}, Vector{Matrix{Float64}}, Vector{Matrix{Float64}}, Float64, Matrix{Float64}}, method::Optim.LBFGS{Nothing, LineSearches.InitialStatic{Float64}, LineSearches.HagerZhang{Float64, Base.RefValue{Bool}}, Optim.var\"#19#21\"}, d::Optim.ManifoldObjective{NLSolversBase.OnceDifferentiable{Float64, Matrix{Float64}, Matrix{Float64}}})\n    @ Optim ~/.julia/packages/Optim/fBdaz/src/utilities/perform_linesearch.jl:58\n  [5] update_state!(d::NLSolversBase.OnceDifferentiable{Float64, Matrix{Float64}, Matrix{Float64}}, state::Optim.LBFGSState{Matrix{Float64}, Vector{Matrix{Float64}}, Vector{Matrix{Float64}}, Float64, Matrix{Float64}}, method::Optim.LBFGS{Nothing, LineSearches.InitialStatic{Float64}, LineSearches.HagerZhang{Float64, Base.RefValue{Bool}}, Optim.var\"#19#21\"})\n    @ Optim ~/.julia/packages/Optim/fBdaz/src/multivariate/solvers/first_order/l_bfgs.jl:204\n  [6] optimize(d::NLSolversBase.OnceDifferentiable{Float64, Matrix{Float64}, Matrix{Float64}}, initial_x::Matrix{Float64}, method::Optim.LBFGS{Nothing, LineSearches.InitialStatic{Float64}, LineSearches.HagerZhang{Float64, Base.RefValue{Bool}}, Optim.var\"#19#21\"}, options::Optim.Options{Float64, Nothing}, state::Optim.LBFGSState{Matrix{Float64}, Vector{Matrix{Float64}}, Vector{Matrix{Float64}}, Float64, Matrix{Float64}})\n    @ Optim ~/.julia/packages/Optim/fBdaz/src/multivariate/optimize/optimize.jl:54\n  [7] optimize\n    @ ~/.julia/packages/Optim/fBdaz/src/multivariate/optimize/optimize.jl:36 [inlined]\n  [8] #optimize#93\n    @ ~/.julia/packages/Optim/fBdaz/src/multivariate/optimize/interface.jl:156 [inlined]\n  [9] optimize\n    @ ~/.julia/packages/Optim/fBdaz/src/multivariate/optimize/interface.jl:151 [inlined]\n [10] solve_dict(X::Matrix{Float64}, K::Matrix{Float64}, ε::Float64, Λ::Matrix{Float64}, ρ2::Float64; alg::Optim.LBFGS{Nothing, LineSearches.InitialStatic{Float64}, LineSearches.HagerZhang{Float64, Base.RefValue{Bool}}, Optim.var\"#19#21\"}, options::Optim.Options{Float64, Nothing})\n    @ JuWassNMF ~/Documents/SilkNest/pyandju/wassnmf/JuWassNMF/src/JuWassNMF.jl:67\n [11] solve_dict\n    @ ~/Documents/SilkNest/pyandju/wassnmf/JuWassNMF/src/JuWassNMF.jl:66 [inlined]\n [12] wasserstein_nmf(X::Matrix{Float64}, K::Matrix{Float64}, k::Int64; eps::Float64, rho1::Float64, rho2::Float64, n_iter::Int64, verbose::Bool)\n    @ JuWassNMF ~/Documents/SilkNest/pyandju/wassnmf/JuWassNMF/src/JuWassNMF.jl:100\n [13] top-level scope\n    @ none:1\n [14] eval\n    @ ./boot.jl:430 [inlined]\n [15] eval\n    @ ./Base.jl:130 [inlined]\n [16] pyjlmodule_seval(self::Module, expr::Py)\n    @ PythonCall.JlWrap ~/.julia/packages/PythonCall/Nr75f/src/JlWrap/module.jl:13\n [17] _pyjl_callmethod(f::Any, self_::Ptr{PythonCall.C.PyObject}, args_::Ptr{PythonCall.C.PyObject}, nargs::Int64)\n    @ PythonCall.JlWrap ~/.julia/packages/PythonCall/Nr75f/src/JlWrap/base.jl:67\n [18] _pyjl_callmethod(o::Ptr{PythonCall.C.PyObject}, args::Ptr{PythonCall.C.PyObject})\n    @ PythonCall.JlWrap.Cjl ~/.julia/packages/PythonCall/Nr75f/src/JlWrap/C.jl:63",
      "\nThe above exception was the direct cause of the following exception:\n",
      "\u001b[0;31mRuntimeError\u001b[0m                              Traceback (most recent call last)",
      "Cell \u001b[0;32mIn[18], line 11\u001b[0m\n\u001b[1;32m      1\u001b[0m \u001b[38;5;66;03m# Instantiate and run WassersteinNMF with the same parameters as the Julia notebook\u001b[39;00m\n\u001b[1;32m      2\u001b[0m wnmf \u001b[38;5;241m=\u001b[39m WassersteinNMF(\n\u001b[1;32m      3\u001b[0m     n_components\u001b[38;5;241m=\u001b[39m\u001b[38;5;241m3\u001b[39m,\n\u001b[1;32m      4\u001b[0m     epsilon\u001b[38;5;241m=\u001b[39meps,\n\u001b[0;32m   (...)\u001b[0m\n\u001b[1;32m      8\u001b[0m     verbose\u001b[38;5;241m=\u001b[39m\u001b[38;5;28;01mTrue\u001b[39;00m\n\u001b[1;32m      9\u001b[0m )\n\u001b[0;32m---> 11\u001b[0m D, Lambda \u001b[38;5;241m=\u001b[39m \u001b[43mwnmf\u001b[49m\u001b[38;5;241;43m.\u001b[39;49m\u001b[43mfit_transform\u001b[49m\u001b[43m(\u001b[49m\u001b[43mX\u001b[49m\u001b[43m,\u001b[49m\u001b[43m \u001b[49m\u001b[43mK\u001b[49m\u001b[43m)\u001b[49m\n\u001b[1;32m     12\u001b[0m \u001b[38;5;28mprint\u001b[39m(\u001b[38;5;124m\"\u001b[39m\u001b[38;5;124mD shape:\u001b[39m\u001b[38;5;124m\"\u001b[39m, D\u001b[38;5;241m.\u001b[39mshape)\n\u001b[1;32m     13\u001b[0m \u001b[38;5;28mprint\u001b[39m(\u001b[38;5;124m\"\u001b[39m\u001b[38;5;124mLambda shape:\u001b[39m\u001b[38;5;124m\"\u001b[39m, Lambda\u001b[38;5;241m.\u001b[39mshape)\n",
      "File \u001b[0;32m~/Documents/SilkNest/pyandju/wassnmf/notebooks/../src/wassnmf/wassnmf.py:150\u001b[0m, in \u001b[0;36mWassersteinNMF.fit_transform\u001b[0;34m(self, X, K)\u001b[0m\n\u001b[1;32m    147\u001b[0m     \u001b[38;5;28;01mreturn\u001b[39;00m D, Lambda\n\u001b[1;32m    149\u001b[0m \u001b[38;5;28;01mexcept\u001b[39;00m \u001b[38;5;167;01mException\u001b[39;00m \u001b[38;5;28;01mas\u001b[39;00m e:\n\u001b[0;32m--> 150\u001b[0m     \u001b[38;5;28;01mraise\u001b[39;00m \u001b[38;5;167;01mRuntimeError\u001b[39;00m(\n\u001b[1;32m    151\u001b[0m         \u001b[38;5;124m\"\u001b[39m\u001b[38;5;124mJulia computation failed. Make sure JuWassNMF.jl is properly installed \u001b[39m\u001b[38;5;124m\"\u001b[39m\n\u001b[1;32m    152\u001b[0m         \u001b[38;5;124mf\u001b[39m\u001b[38;5;124m\"\u001b[39m\u001b[38;5;124mand all dependencies are available. Error: \u001b[39m\u001b[38;5;132;01m{\u001b[39;00m\u001b[38;5;28mstr\u001b[39m(e)\u001b[38;5;132;01m}\u001b[39;00m\u001b[38;5;124m\"\u001b[39m\n\u001b[1;32m    153\u001b[0m     ) \u001b[38;5;28;01mfrom\u001b[39;00m\u001b[38;5;250m \u001b[39m\u001b[38;5;21;01me\u001b[39;00m\n",
      "\u001b[0;31mRuntimeError\u001b[0m: Julia computation failed. Make sure JuWassNMF.jl is properly installed and all dependencies are available. Error: AssertionError: isfinite(phi_c) && isfinite(dphi_c)\nStacktrace:\n  [1] secant2!(ϕdϕ::LineSearches.var\"#ϕdϕ#6\"{Optim.ManifoldObjective{NLSolversBase.OnceDifferentiable{Float64, Matrix{Float64}, Matrix{Float64}}}, Matrix{Float64}, Matrix{Float64}, Matrix{Float64}}, alphas::Vector{Float64}, values::Vector{Float64}, slopes::Vector{Float64}, ia::Int64, ib::Int64, phi_lim::Float64, delta::Float64, sigma::Float64, display::Int64)\n    @ LineSearches ~/.julia/packages/LineSearches/jgnxK/src/hagerzhang.jl:376\n  [2] (::LineSearches.HagerZhang{Float64, Base.RefValue{Bool}})(ϕ::Function, ϕdϕ::LineSearches.var\"#ϕdϕ#6\"{Optim.ManifoldObjective{NLSolversBase.OnceDifferentiable{Float64, Matrix{Float64}, Matrix{Float64}}}, Matrix{Float64}, Matrix{Float64}, Matrix{Float64}}, c::Float64, phi_0::Float64, dphi_0::Float64)\n    @ LineSearches ~/.julia/packages/LineSearches/jgnxK/src/hagerzhang.jl:276\n  [3] HagerZhang\n    @ ~/.julia/packages/LineSearches/jgnxK/src/hagerzhang.jl:102 [inlined]\n  [4] perform_linesearch!(state::Optim.LBFGSState{Matrix{Float64}, Vector{Matrix{Float64}}, Vector{Matrix{Float64}}, Float64, Matrix{Float64}}, method::Optim.LBFGS{Nothing, LineSearches.InitialStatic{Float64}, LineSearches.HagerZhang{Float64, Base.RefValue{Bool}}, Optim.var\"#19#21\"}, d::Optim.ManifoldObjective{NLSolversBase.OnceDifferentiable{Float64, Matrix{Float64}, Matrix{Float64}}})\n    @ Optim ~/.julia/packages/Optim/fBdaz/src/utilities/perform_linesearch.jl:58\n  [5] update_state!(d::NLSolversBase.OnceDifferentiable{Float64, Matrix{Float64}, Matrix{Float64}}, state::Optim.LBFGSState{Matrix{Float64}, Vector{Matrix{Float64}}, Vector{Matrix{Float64}}, Float64, Matrix{Float64}}, method::Optim.LBFGS{Nothing, LineSearches.InitialStatic{Float64}, LineSearches.HagerZhang{Float64, Base.RefValue{Bool}}, Optim.var\"#19#21\"})\n    @ Optim ~/.julia/packages/Optim/fBdaz/src/multivariate/solvers/first_order/l_bfgs.jl:204\n  [6] optimize(d::NLSolversBase.OnceDifferentiable{Float64, Matrix{Float64}, Matrix{Float64}}, initial_x::Matrix{Float64}, method::Optim.LBFGS{Nothing, LineSearches.InitialStatic{Float64}, LineSearches.HagerZhang{Float64, Base.RefValue{Bool}}, Optim.var\"#19#21\"}, options::Optim.Options{Float64, Nothing}, state::Optim.LBFGSState{Matrix{Float64}, Vector{Matrix{Float64}}, Vector{Matrix{Float64}}, Float64, Matrix{Float64}})\n    @ Optim ~/.julia/packages/Optim/fBdaz/src/multivariate/optimize/optimize.jl:54\n  [7] optimize\n    @ ~/.julia/packages/Optim/fBdaz/src/multivariate/optimize/optimize.jl:36 [inlined]\n  [8] #optimize#93\n    @ ~/.julia/packages/Optim/fBdaz/src/multivariate/optimize/interface.jl:156 [inlined]\n  [9] optimize\n    @ ~/.julia/packages/Optim/fBdaz/src/multivariate/optimize/interface.jl:151 [inlined]\n [10] solve_dict(X::Matrix{Float64}, K::Matrix{Float64}, ε::Float64, Λ::Matrix{Float64}, ρ2::Float64; alg::Optim.LBFGS{Nothing, LineSearches.InitialStatic{Float64}, LineSearches.HagerZhang{Float64, Base.RefValue{Bool}}, Optim.var\"#19#21\"}, options::Optim.Options{Float64, Nothing})\n    @ JuWassNMF ~/Documents/SilkNest/pyandju/wassnmf/JuWassNMF/src/JuWassNMF.jl:67\n [11] solve_dict\n    @ ~/Documents/SilkNest/pyandju/wassnmf/JuWassNMF/src/JuWassNMF.jl:66 [inlined]\n [12] wasserstein_nmf(X::Matrix{Float64}, K::Matrix{Float64}, k::Int64; eps::Float64, rho1::Float64, rho2::Float64, n_iter::Int64, verbose::Bool)\n    @ JuWassNMF ~/Documents/SilkNest/pyandju/wassnmf/JuWassNMF/src/JuWassNMF.jl:100\n [13] top-level scope\n    @ none:1\n [14] eval\n    @ ./boot.jl:430 [inlined]\n [15] eval\n    @ ./Base.jl:130 [inlined]\n [16] pyjlmodule_seval(self::Module, expr::Py)\n    @ PythonCall.JlWrap ~/.julia/packages/PythonCall/Nr75f/src/JlWrap/module.jl:13\n [17] _pyjl_callmethod(f::Any, self_::Ptr{PythonCall.C.PyObject}, args_::Ptr{PythonCall.C.PyObject}, nargs::Int64)\n    @ PythonCall.JlWrap ~/.julia/packages/PythonCall/Nr75f/src/JlWrap/base.jl:67\n [18] _pyjl_callmethod(o::Ptr{PythonCall.C.PyObject}, args::Ptr{PythonCall.C.PyObject})\n    @ PythonCall.JlWrap.Cjl ~/.julia/packages/PythonCall/Nr75f/src/JlWrap/C.jl:63"
     ]
    }
   ],
   "source": [
    "# Instantiate and run WassersteinNMF with the same parameters as the Julia notebook\n",
    "wnmf = WassersteinNMF(\n",
    "    n_components=3,\n",
    "    epsilon=eps,\n",
    "    rho1=0.05,\n",
    "    rho2=0.05,\n",
    "    n_iter=10,\n",
    "    verbose=True\n",
    ")\n",
    "\n",
    "D, Lambda = wnmf.fit_transform(X, K)\n",
    "print(\"D shape:\", D.shape)\n",
    "print(\"Lambda shape:\", Lambda.shape)\n"
   ]
  },
  {
   "cell_type": "code",
   "execution_count": null,
   "metadata": {},
   "outputs": [],
   "source": [
    "# Verify shape, non-negativity, and column sums\n",
    "assert D.shape == (n_features, 3), f\"Expected D shape {(n_features, 3)}, got {D.shape}\"\n",
    "assert Lambda.shape == (3, n_samples), f\"Expected Lambda shape {(3, n_samples)}, got {Lambda.shape}\"\n",
    "assert np.all(D >= 0), \"D contains negative values\"\n",
    "assert np.all(Lambda >= 0), \"Lambda contains negative values\"\n",
    "\n",
    "d_col_sums = D.sum(axis=0)\n",
    "lambda_col_sums = Lambda.sum(axis=0)\n",
    "np.testing.assert_allclose(d_col_sums, 1.0, atol=1e-4, err_msg=\"D columns do not sum to 1\")\n",
    "np.testing.assert_allclose(lambda_col_sums, 1.0, atol=1e-4, err_msg=\"Lambda columns do not sum to 1\")\n",
    "\n",
    "print(\"Julia notebook analog steps completed successfully!\")\n"
   ]
  }
 ],
 "metadata": {
  "kernelspec": {
   "display_name": ".venv",
   "language": "python",
   "name": "python3"
  },
  "language_info": {
   "codemirror_mode": {
    "name": "ipython",
    "version": 3
   },
   "file_extension": ".py",
   "mimetype": "text/x-python",
   "name": "python",
   "nbconvert_exporter": "python",
   "pygments_lexer": "ipython3",
   "version": "3.10.12"
  }
 },
 "nbformat": 4,
 "nbformat_minor": 2
}
