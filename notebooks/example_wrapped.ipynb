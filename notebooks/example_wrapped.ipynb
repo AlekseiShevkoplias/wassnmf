{
 "cells": [
  {
   "cell_type": "code",
   "execution_count": null,
   "metadata": {},
   "outputs": [],
   "source": [
    "import numpy as np\n",
    "\n",
    "# Load the exact Julia-saved X\n",
    "X = np.loadtxt(\"../data/X_data.csv\", delimiter=\",\")\n",
    "print(\"Loaded X shape:\", X.shape)\n",
    "\n",
    "coord = np.loadtxt(\"../data/coord_data.csv\", delimiter=\",\")\n"
   ]
  },
  {
   "cell_type": "code",
   "execution_count": null,
   "metadata": {},
   "outputs": [],
   "source": [
    "from sklearn.metrics import pairwise_distances\n",
    "\n",
    "C = pairwise_distances(coord.reshape(-1, 1), metric=\"sqeuclidean\")\n",
    "C = C / C.mean()  # same normalization as the notebook\n",
    "\n",
    "eps = 0.025\n",
    "K = np.exp(-C / eps)"
   ]
  },
  {
   "cell_type": "code",
   "execution_count": null,
   "metadata": {},
   "outputs": [],
   "source": [
    "import numpy as np\n",
    "import pytest\n",
    "from sklearn.metrics import pairwise_distances\n",
    "\n",
    "import sys\n",
    "from pathlib import Path\n",
    "\n",
    "# Insert \"src\" into sys.path so we can import the local wassnmf package\n",
    "sys.path.insert(0, \"../src\")\n",
    "from wassnmf.wassnmf import WassersteinNMF"
   ]
  },
  {
   "cell_type": "code",
   "execution_count": null,
   "metadata": {},
   "outputs": [],
   "source": [
    "def f(x, mu, sigma=1.0):\n",
    "    \"\"\"Mimic the Julia f(coord, μ, σ): exp.(-(x .- μ).^2).\"\"\"\n",
    "    return np.exp(-(x - mu)**2 / (2 * sigma**2))  # Gaussian bump"
   ]
  },
  {
   "cell_type": "code",
   "execution_count": null,
   "metadata": {},
   "outputs": [],
   "source": [
    "np.random.seed(42)\n",
    "n_features = 100\n",
    "n_samples = 100\n",
    "coord = np.linspace(-12, 12, n_features)\n",
    "X = np.zeros((n_features, n_samples), dtype=np.float64)\n",
    "\n",
    "# Generate data as sums of 3 random Gaussian bumps per column\n",
    "sigma = 1.0\n",
    "for j in range(n_samples):\n",
    "    bump1 = np.random.rand() * f(coord, sigma * np.random.randn() + 6, sigma=1.0)\n",
    "    bump2 = np.random.rand() * f(coord, sigma * np.random.randn(), sigma=1.0)\n",
    "    bump3 = np.random.rand() * f(coord, sigma * np.random.randn() - 6, sigma=1.0)\n",
    "    X[:, j] = bump1 + bump2 + bump3\n",
    "\n",
    "# Normalize columns to sum to 1 (probability simplex)\n",
    "X /= X.sum(axis=0, keepdims=True)\n",
    "\n",
    "print(\"X shape:\", X.shape)\n"
   ]
  },
  {
   "cell_type": "code",
   "execution_count": null,
   "metadata": {},
   "outputs": [],
   "source": [
    "# Build cost matrix C from the same coordinate range [-12, 12]\n",
    "C = pairwise_distances(coord.reshape(-1, 1), metric='sqeuclidean')\n",
    "C /= C.mean()\n",
    "\n",
    "# Convert cost matrix to kernel\n",
    "eps = 0.025\n",
    "K = np.exp(-C / eps)\n",
    "\n",
    "print(\"C shape:\", C.shape, \"  K shape:\", K.shape)\n"
   ]
  },
  {
   "cell_type": "code",
   "execution_count": null,
   "metadata": {},
   "outputs": [],
   "source": [
    "# Instantiate and run WassersteinNMF with the same parameters as the Julia notebook\n",
    "wnmf = WassersteinNMF(\n",
    "    n_components=3,\n",
    "    epsilon=eps,\n",
    "    rho1=0.05,\n",
    "    rho2=0.05,\n",
    "    n_iter=10,\n",
    "    verbose=True\n",
    ")\n",
    "\n",
    "D, Lambda = wnmf.fit_transform(X, K)\n",
    "print(\"D shape:\", D.shape)\n",
    "print(\"Lambda shape:\", Lambda.shape)\n"
   ]
  },
  {
   "cell_type": "code",
   "execution_count": null,
   "metadata": {},
   "outputs": [],
   "source": [
    "# Verify shape, non-negativity, and column sums\n",
    "assert D.shape == (n_features, 3), f\"Expected D shape {(n_features, 3)}, got {D.shape}\"\n",
    "assert Lambda.shape == (3, n_samples), f\"Expected Lambda shape {(3, n_samples)}, got {Lambda.shape}\"\n",
    "assert np.all(D >= 0), \"D contains negative values\"\n",
    "assert np.all(Lambda >= 0), \"Lambda contains negative values\"\n",
    "\n",
    "d_col_sums = D.sum(axis=0)\n",
    "lambda_col_sums = Lambda.sum(axis=0)\n",
    "np.testing.assert_allclose(d_col_sums, 1.0, atol=1e-4, err_msg=\"D columns do not sum to 1\")\n",
    "np.testing.assert_allclose(lambda_col_sums, 1.0, atol=1e-4, err_msg=\"Lambda columns do not sum to 1\")\n",
    "\n",
    "print(\"Julia notebook analog steps completed successfully!\")\n"
   ]
  }
 ],
 "metadata": {
  "kernelspec": {
   "display_name": ".venv",
   "language": "python",
   "name": "python3"
  },
  "language_info": {
   "codemirror_mode": {
    "name": "ipython",
    "version": 3
   },
   "file_extension": ".py",
   "mimetype": "text/x-python",
   "name": "python",
   "nbconvert_exporter": "python",
   "pygments_lexer": "ipython3",
   "version": "3.10.12"
  }
 },
 "nbformat": 4,
 "nbformat_minor": 2
}
