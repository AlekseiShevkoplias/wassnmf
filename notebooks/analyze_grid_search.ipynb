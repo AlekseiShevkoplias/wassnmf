{
 "cells": [
  {
   "cell_type": "code",
   "execution_count": null,
   "metadata": {},
   "outputs": [],
   "source": [
    "from wassnmf.wassnmf import *\n",
    "import pandas as pd\n",
    "import numpy as np"
   ]
  },
  {
   "cell_type": "code",
   "execution_count": null,
   "metadata": {},
   "outputs": [],
   "source": [
    "import pandas as pd\n",
    "import statsmodels.api as sm\n",
    "import seaborn as sns\n",
    "import matplotlib.pyplot as plt\n",
    "\n",
    "# Load the dataset\n",
    "file_path = \"../../wassnmf_experiments/results_1.csv\"  # Change this if needed\n",
    "df = pd.read_csv(file_path)\n",
    "\n",
    "# Display the first few rows to check structure\n",
    "print(df.head())\n",
    "\n",
    "# Summary statistics\n",
    "print(df.describe())\n",
    "\n",
    "# Exploratory data analysis (optional: visualize distributions)\n",
    "sns.pairplot(df[['n_components', 'n_iter', 'epsilon', 'rho1', 'rho2', 'wass_error', 'wass_time']])\n",
    "plt.show()\n",
    "\n",
    "# Prepare the data for regression analysis\n",
    "X = df[['n_components', 'n_iter', 'epsilon', 'rho1', 'rho2']]  # Independent variables\n",
    "X = sm.add_constant(X)  # Add constant term for intercept\n",
    "\n",
    "# Dependent variables\n",
    "y_error = df['wass_error']  # Predicting Wasserstein Error\n",
    "y_time = df['wass_time']  # Predicting Computation Time\n",
    "\n",
    "# Fit regression models\n",
    "model_error = sm.OLS(y_error, X).fit()\n",
    "model_time = sm.OLS(y_time, X).fit()\n",
    "\n",
    "# Display regression results\n",
    "print(\"### Regression Model: Predicting Wasserstein Error ###\")\n",
    "print(model_error.summary())\n",
    "\n",
    "print(\"\\n### Regression Model: Predicting Computation Time ###\")\n",
    "print(model_time.summary())\n",
    "\n",
    "# Visualizing Regression Relationships\n",
    "def scatterplot_with_trend(x, y, data, xlabel, ylabel, title, color):\n",
    "    plt.figure(figsize=(8, 5))\n",
    "    sns.regplot(x=x, y=y, data=data, scatter_kws={\"alpha\": 0.5}, line_kws={\"color\": color}, color=color)\n",
    "    plt.xlabel(xlabel, fontsize=12)\n",
    "    plt.ylabel(ylabel, fontsize=12)\n",
    "    plt.title(title, fontsize=14)\n",
    "    plt.show()\n",
    "\n",
    "# Generate scatter plots with trend lines\n",
    "scatterplot_with_trend('n_components', 'wass_error', df, 'Number of Components', 'Wasserstein Error', 'Wasserstein Error vs. Number of Components', 'blue')\n",
    "scatterplot_with_trend('n_components', 'wass_time', df, 'Number of Components', 'Wasserstein Time', 'Wasserstein Time vs. Number of Components', 'red')\n",
    "scatterplot_with_trend('n_iter', 'wass_error', df, 'Number of Iterations', 'Wasserstein Error', 'Wasserstein Error vs. Iterations', 'green')\n",
    "scatterplot_with_trend('n_iter', 'wass_time', df, 'Number of Iterations', 'Wasserstein Time', 'Wasserstein Time vs. Iterations', 'purple')\n",
    "scatterplot_with_trend('epsilon', 'wass_error', df, 'Epsilon', 'Wasserstein Error', 'Wasserstein Error vs. Epsilon', 'orange')\n",
    "scatterplot_with_trend('epsilon', 'wass_time', df, 'Epsilon', 'Wasserstein Time', 'Wasserstein Time vs. Epsilon', 'brown')\n",
    "scatterplot_with_trend('rho1', 'wass_error', df, 'Rho1', 'Wasserstein Error', 'Wasserstein Error vs. Rho1', 'cyan')\n",
    "scatterplot_with_trend('rho1', 'wass_time', df, 'Rho1', 'Wasserstein Time', 'Wasserstein Time vs. Rho1', 'magenta')\n",
    "scatterplot_with_trend('rho2', 'wass_error', df, 'Rho2', 'Wasserstein Error', 'Wasserstein Error vs. Rho2', 'lime')\n",
    "scatterplot_with_trend('rho2', 'wass_time', df, 'Rho2', 'Wasserstein Time', 'Wasserstein Time vs. Rho2', 'teal')\n",
    "\n"
   ]
  },
  {
   "cell_type": "code",
   "execution_count": null,
   "metadata": {},
   "outputs": [],
   "source": []
  },
  {
   "cell_type": "code",
   "execution_count": null,
   "metadata": {},
   "outputs": [],
   "source": []
  },
  {
   "cell_type": "code",
   "execution_count": null,
   "metadata": {},
   "outputs": [],
   "source": []
  }
 ],
 "metadata": {
  "kernelspec": {
   "display_name": ".venv",
   "language": "python",
   "name": "python3"
  },
  "language_info": {
   "codemirror_mode": {
    "name": "ipython",
    "version": 3
   },
   "file_extension": ".py",
   "mimetype": "text/x-python",
   "name": "python",
   "nbconvert_exporter": "python",
   "pygments_lexer": "ipython3",
   "version": "3.10.12"
  }
 },
 "nbformat": 4,
 "nbformat_minor": 2
}
